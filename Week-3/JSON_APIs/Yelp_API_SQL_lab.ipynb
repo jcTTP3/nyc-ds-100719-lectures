{
 "cells": [
  {
   "cell_type": "markdown",
   "metadata": {},
   "source": [
    "# Yelp API - Lab\n",
    "\n",
    "\n",
    "\n",
    "## Introduction \n",
    "\n",
    "Now that we've seen how the Yelp API works, it's time to put those API and SQL skills to work in order to do some basic business analysis! Taking things a step further, you'll also independently explore how to perform pagination in order to retrieve a full results set from the Yelp API!\n",
    "\n",
    "## Objectives\n",
    "\n",
    "You will be able to:\n",
    "* Create a DB on AWS to store information from Yelp about businesses\n",
    "* Create HTTP requests to get data from Yelp API\n",
    "* Parse HTTP responses and insert the information into your DB\n",
    "* Perform pagination to retrieve troves of data!\n",
    "* Write SQL queries to answer questions about your data "
   ]
  },
  {
   "cell_type": "markdown",
   "metadata": {},
   "source": [
    "## Problem Introduction\n",
    "\n",
    "You've now worked with some API calls, but we have yet to see how to retrieve a more complete dataset in a programmatic manner and combine it with our other data skills. In this lab you will get data from the Yelp API, store that data in a SQL Database on AWS, and write queries to answer follow-up questions. \n",
    "\n",
    "\n",
    "### Outline:\n",
    "\n",
    "1. Determine which pieces of information you need to pull from the Yelp API.\n",
    "\n",
    "2. Create a DB schema with 2 tables. One for the businesses and one for the reviews.\n",
    "\n",
    "3. Create Python functions to:\n",
    "  - Perform a search of businesses using pagination\n",
    "  - Parse the API response for specific data points\n",
    "  - Insert the data into your AWS DB\n",
    "\n",
    "4. Use the functions above in a loop that will paginate over the results to retrieve all of the results. \n",
    "\n",
    "*Something might cause your code to break while it is running. You don't want to constantly repull the same data when this happens, so you should insert the data into the database as you call and parse it, not after you have all of the data*\n",
    "\n",
    "5. Create functions to:\n",
    "  - Retrieve the reviews data of one business\n",
    "  - Parse the reviews response for specific review data\n",
    "  - Insert the review data into the DB\n",
    "\n",
    "6. Using SQL, query all of the business IDs. Using the 3 Python functions you've created, run your business IDs through a loop to get the reviews for each business and insert them into your DB.\n",
    "\n",
    "7. Write SQL queries to answer the following questions about your data.\n",
    "\n",
    "\n",
    "Bonus Steps:  \n",
    "- Place your helper functions in a package so that your final notebook only has the major steps listed.\n",
    "- Rewrite your business search functions to be able take an argument for the type of business you are searching for.\n",
    "- Add another group of businesses to your database.\n"
   ]
  },
  {
   "cell_type": "markdown",
   "metadata": {},
   "source": [
    " \n",
    "## SQL Questions:\n",
    "\n",
    "- What are the 5 businesses with the highest average ratings?\n",
    "- What are the 5 businesses with the lowest average ratings?\n",
    "- What is the average rating of restaurants that have a price label of one dollar sign? Two dollar signs? Three dollar signs? \n",
    "- How many businesses have a rating greater than or  4.5?\n",
    "- How many businesses have a rating less than 3?\n",
    "- Return the text of the reviews for the most reviewed restaurant. \n",
    "- Find the highest rated business and return text of the most recent review. If multiple business have the same rating, select the restaurant with the most reviews. \n",
    "- Find the lowest rated business and return text of the most recent review.  If multiple business have the same rating, select the restaurant with the least reviews. \n"
   ]
  },
  {
   "cell_type": "code",
   "execution_count": 103,
   "metadata": {},
   "outputs": [],
   "source": [
    "import requests\n",
    "import json\n",
    "import mysql.connector\n",
    "import config\n",
    "from mysql.connector import errorcode\n",
    "import time"
   ]
  },
  {
   "cell_type": "code",
   "execution_count": null,
   "metadata": {},
   "outputs": [],
   "source": []
  },
  {
   "cell_type": "markdown",
   "metadata": {},
   "source": [
    "## Part I - Set up the DB\n",
    "\n",
    "Start by reading SQL questions above to get an understanding of the data you will need. Then, read the documentation of Yelp API to understand what data you will receive in the response.  \n",
    "\n",
    "\n",
    "Now that you are familiar with the data, create your SQL queries to create the DB and the appropriate tables. "
   ]
  },
  {
   "cell_type": "code",
   "execution_count": 150,
   "metadata": {},
   "outputs": [],
   "source": [
    "## Connect to DB server on AWS ##### REMEMBER TO COMMIT UPDATES TO DB!!!!!\n",
    "cnx = mysql.connector.connect(\n",
    "    host = config.host,\n",
    "    user = config.user,\n",
    "    passwd = config.password,\n",
    "    database = 'yelp'\n",
    ")"
   ]
  },
  {
   "cell_type": "code",
   "execution_count": 151,
   "metadata": {},
   "outputs": [],
   "source": [
    "cursor = cnx.cursor()"
   ]
  },
  {
   "cell_type": "code",
   "execution_count": 49,
   "metadata": {},
   "outputs": [],
   "source": [
    "## Create new DB \n",
    "db_name = 'yelp'"
   ]
  },
  {
   "cell_type": "code",
   "execution_count": 14,
   "metadata": {},
   "outputs": [
    {
     "name": "stdout",
     "output_type": "stream",
     "text": [
      "Database yelp does not exists.\n",
      "Database yelp created successfully.\n"
     ]
    }
   ],
   "source": [
    "def create_database(cursor, database):\n",
    "    try:\n",
    "        cursor.execute(\n",
    "            \"CREATE DATABASE {} DEFAULT CHARACTER SET 'utf8'\".format(database))\n",
    "    except mysql.connector.Error as err:\n",
    "        print(\"Failed creating database: {}\".format(err))\n",
    "        exit(1)\n",
    "\n",
    "try:\n",
    "    cursor.execute(\"USE {}\".format(db_name))\n",
    "except mysql.connector.Error as err:\n",
    "    print(\"Database {} does not exists.\".format(db_name))\n",
    "    if err.errno == errorcode.ER_BAD_DB_ERROR:\n",
    "        create_database(cursor, db_name)\n",
    "        print(\"Database {} created successfully.\".format(db_name))\n",
    "        cnx.database = db_name\n",
    "    else:\n",
    "        print(err)\n",
    "        exit(1)"
   ]
  },
  {
   "cell_type": "code",
   "execution_count": 26,
   "metadata": {},
   "outputs": [],
   "source": [
    "# Create a table for the Businesses\n",
    "tables = {}\n",
    "tables['businesses'] = (\n",
    "    \"CREATE TABLE businesses (\"\n",
    "    \"  id varchar(50) NOT NULL,\"\n",
    "    \"  name varchar(50) NOT NULL,\"\n",
    "    \"  rating float(32),\"\n",
    "    \"  price varchar(10),\"\n",
    "    \"  PRIMARY KEY (id)\"\n",
    "    \") ENGINE=InnoDB\")\n"
   ]
  },
  {
   "cell_type": "code",
   "execution_count": 27,
   "metadata": {},
   "outputs": [],
   "source": [
    "# Create a table for the reviews\n",
    "tables['reviews'] = (\n",
    "    \"CREATE TABLE reviews (\"\n",
    "    \"  id varchar(50) NOT NULL,\"\n",
    "    \"  text varchar(1000),\"\n",
    "    \"  PRIMARY KEY (id)\"\n",
    "    \") ENGINE=InnoDB\")"
   ]
  },
  {
   "cell_type": "code",
   "execution_count": 32,
   "metadata": {},
   "outputs": [
    {
     "name": "stdout",
     "output_type": "stream",
     "text": [
      "Creating table businesses: OK\n",
      "Creating table reviews: OK\n"
     ]
    }
   ],
   "source": [
    "for table_name in tables:\n",
    "    table_description = tables[table_name]\n",
    "    try:\n",
    "        print(\"Creating table {}: \".format(table_name), end='')\n",
    "        cursor.execute(table_description)\n",
    "    except mysql.connector.Error as err:\n",
    "        if err.errno == errorcode.ER_TABLE_EXISTS_ERROR:\n",
    "            print(\"already exists.\")\n",
    "        else:\n",
    "            print(err.msg)\n",
    "    else:\n",
    "        print(\"OK\")"
   ]
  },
  {
   "cell_type": "code",
   "execution_count": 55,
   "metadata": {},
   "outputs": [],
   "source": [
    "# ALTER TABLE TableName\n",
    "# ADD ColumnName Datatype;\n",
    "\n",
    "stmt = \"\"\"ALTER TABLE businesses ADD review_count INT(10)\"\"\"\n",
    "cursor.execute(stmt)"
   ]
  },
  {
   "cell_type": "code",
   "execution_count": 119,
   "metadata": {},
   "outputs": [],
   "source": [
    "stmt= \"\"\"ALTER TABLE reviews ADD FOREIGN KEY (restaurant_id) REFERENCES businesses(id)\"\"\"\n",
    "cursor.execute(stmt)"
   ]
  },
  {
   "cell_type": "markdown",
   "metadata": {},
   "source": [
    "## Part 2: Create ETL pipeline for the business data from the API"
   ]
  },
  {
   "cell_type": "code",
   "execution_count": 88,
   "metadata": {},
   "outputs": [],
   "source": [
    "# write a function to make a call to the DB\n",
    "url = \"https://api.yelp.com/v3/businesses/search\"\n",
    "api_key = 'OG1R6QqOCWoDZmudlnvFACy8MDm2UPvWfvGSkz6Fv2mLrbjU1q5__1eXA-T6TWE5vacDopfDXZnk2qdjnUd6ZORJiNRPyFi5Sj_nhDE7H710VPbZrRjjkTlRL9SxXXYx'\n",
    "header = {'Authorization': 'Bearer %s' %api_key}\n",
    "params = {'term': 'pizza',\n",
    "         'location':'East Village, NY',\n",
    "          'limit' : '50'\n",
    "         }\n",
    "\n"
   ]
  },
  {
   "cell_type": "code",
   "execution_count": 7,
   "metadata": {},
   "outputs": [],
   "source": [
    "def request_from_yelp(url, header, params):\n",
    "    req = requests.get(url, params=params, headers=header)\n",
    "    data = json.loads(req.content)\n",
    "    return data\n",
    "def all_results(url,header,params):\n",
    "    num = request_from_yelp(url, params=params, header=header)['total']\n",
    "    print('{} total matches found.'.format(num))\n",
    "    cur = 0\n",
    "    results = []\n",
    "    while cur < num and cur < 1000:\n",
    "        params['offset'] = str(cur)\n",
    "        results.append(request_from_yelp(url, params=params, header=header))\n",
    "        time.sleep(1) #Wait a second\n",
    "        cur += 50\n",
    "    return results\n"
   ]
  },
  {
   "cell_type": "code",
   "execution_count": 8,
   "metadata": {},
   "outputs": [
    {
     "name": "stdout",
     "output_type": "stream",
     "text": [
      "1400 total matches found.\n"
     ]
    }
   ],
   "source": [
    "results = all_results(url=url, header=header, params=params)"
   ]
  },
  {
   "cell_type": "code",
   "execution_count": 37,
   "metadata": {},
   "outputs": [
    {
     "data": {
      "text/plain": [
       "dict_keys(['businesses', 'total', 'region'])"
      ]
     },
     "execution_count": 37,
     "metadata": {},
     "output_type": "execute_result"
    }
   ],
   "source": [
    "results[0].keys()"
   ]
  },
  {
   "cell_type": "code",
   "execution_count": 30,
   "metadata": {},
   "outputs": [],
   "source": [
    "all_results = []\n",
    "for item in results:\n",
    "    for thing in item['businesses']:\n",
    "        all_results.append(thing)\n",
    "    "
   ]
  },
  {
   "cell_type": "code",
   "execution_count": 31,
   "metadata": {},
   "outputs": [
    {
     "data": {
      "text/plain": [
       "1000"
      ]
     },
     "execution_count": 31,
     "metadata": {},
     "output_type": "execute_result"
    }
   ],
   "source": [
    "len(all_results)"
   ]
  },
  {
   "cell_type": "code",
   "execution_count": 33,
   "metadata": {},
   "outputs": [],
   "source": [
    "\n",
    "def parser(data):\n",
    "        if 'price' not in item.keys():\n",
    "                bus = {\n",
    "            'id' : item['id'],\n",
    "            'name' : item['name'],\n",
    "            'rating' : item['rating'],\n",
    "            'price' : 0,\n",
    "            'review_count' : item['review_count']}\n",
    "        else:\n",
    "            bus = {\n",
    "            'id' : item['id'],\n",
    "            'name' : item['name'],\n",
    "            'rating' : item['rating'],\n",
    "            'price' : item['price'],\n",
    "            'review_count' : item['review_count']}\n",
    "\n",
    "        return bus"
   ]
  },
  {
   "cell_type": "code",
   "execution_count": 34,
   "metadata": {},
   "outputs": [],
   "source": [
    "to_sql =[]\n",
    "for item in all_results:\n",
    "    to_sql.append(parser(item))\n"
   ]
  },
  {
   "cell_type": "code",
   "execution_count": 36,
   "metadata": {},
   "outputs": [
    {
     "data": {
      "text/plain": [
       "{'id': 'a7VT5ljjI6aHhgog9ANa1Q',\n",
       " 'name': 'Middle Eats',\n",
       " 'price': '$',\n",
       " 'rating': 4.0,\n",
       " 'review_count': 62}"
      ]
     },
     "execution_count": 36,
     "metadata": {},
     "output_type": "execute_result"
    }
   ],
   "source": [
    "to_sql[999]"
   ]
  },
  {
   "cell_type": "code",
   "execution_count": 28,
   "metadata": {},
   "outputs": [
    {
     "data": {
      "text/plain": [
       "{'id': 'zj8Lq1T8KIC5zwFief15jg',\n",
       " 'name': 'Prince Street Pizza',\n",
       " 'price': '$',\n",
       " 'rating': 4.5,\n",
       " 'review_count': 3177}"
      ]
     },
     "execution_count": 28,
     "metadata": {},
     "output_type": "execute_result"
    }
   ],
   "source": [
    "to_sql[0]"
   ]
  },
  {
   "cell_type": "code",
   "execution_count": null,
   "metadata": {},
   "outputs": [],
   "source": [
    "# write a function to parse the API response \n",
    "\n",
    "# so that you can easily insert the data in to the DB"
   ]
  },
  {
   "cell_type": "code",
   "execution_count": 38,
   "metadata": {},
   "outputs": [],
   "source": [
    "# Write a function to take your parsed data and insert it into the DB\n",
    "def insert_restaurant(my_dict):\n",
    "    stmt = \"\"\"INSERT INTO businesses\n",
    "    (id, name, rating, price, review_count)\n",
    "    VALUES (%(id)s,%(name)s,%(rating)s,%(price)s, %(review_count)s)\"\"\"\n",
    "    cursor.execute(stmt, my_dict)\n",
    "\n",
    "\n",
    "# def load_sql(list_dicts):\n",
    "#     first = \"\"\"INSERT INTO businesses (id, name, rating, price, review_count) VALUES\"\"\"\n",
    "#     str_list = []\n",
    "#     for item in list_dicts:\n",
    "#         second = item.values()\n",
    "#         second = [str(x) + ', 'for x in second ]\n",
    "#         second = ''.join(second)[:-2]\n",
    "#         second = '('+ second + ')'\n",
    "#         str_list.append(first + second)\n",
    "#     return str_list"
   ]
  },
  {
   "cell_type": "code",
   "execution_count": 41,
   "metadata": {},
   "outputs": [],
   "source": []
  },
  {
   "cell_type": "code",
   "execution_count": 40,
   "metadata": {},
   "outputs": [],
   "source": []
  },
  {
   "cell_type": "code",
   "execution_count": null,
   "metadata": {},
   "outputs": [],
   "source": []
  },
  {
   "cell_type": "markdown",
   "metadata": {},
   "source": [
    "## Part 3: Create ETL pipeline for the restaurant review data from the API"
   ]
  },
  {
   "cell_type": "code",
   "execution_count": 74,
   "metadata": {},
   "outputs": [],
   "source": [
    "# write a query to pull back all of the business ids \n",
    "cursor.execute(\"\"\"SELECT id FROM businesses\"\"\")\n",
    "# you will need these ids to pull back the reviews for each restaurant"
   ]
  },
  {
   "cell_type": "code",
   "execution_count": 75,
   "metadata": {},
   "outputs": [],
   "source": [
    "ids =[]\n",
    "for item in cursor:\n",
    "    ids.append(item[0])"
   ]
  },
  {
   "cell_type": "code",
   "execution_count": 109,
   "metadata": {},
   "outputs": [],
   "source": [
    "api_key = \"3Bygmy0aVv8v2v7gVHw15sAsmJmHwRyT5_1xoMIq81w_A-UXCk8r4SXZP4NFGFEPseYTv-Qho9M3Ad26wx36t0RCbGZ4OwokXhTM2Yr0Gtm8-052Q6iAniEHoDCzXXYx\"\n",
    "header = {'Authorization': 'Bearer %s' %api_key}\n",
    "url = 'https://api.yelp.com/v3/businesses/{}/reviews'.format()\n",
    "req = requests.get(url,headers=header)\n"
   ]
  },
  {
   "cell_type": "code",
   "execution_count": 130,
   "metadata": {},
   "outputs": [],
   "source": [
    "def get_reviews(api_key, header, item):\n",
    "    url = 'https://api.yelp.com/v3/businesses/{}/reviews'.format(item)\n",
    "    req = requests.get(url,headers=header)\n",
    "    data= json.loads(req.content)\n",
    "    return data"
   ]
  },
  {
   "cell_type": "code",
   "execution_count": 131,
   "metadata": {},
   "outputs": [],
   "source": [
    "data = get_reviews(api_key=api_key, header=header, item=ids[0])"
   ]
  },
  {
   "cell_type": "code",
   "execution_count": 133,
   "metadata": {},
   "outputs": [
    {
     "data": {
      "text/plain": [
       "[{'id': '9V_9DbseuChgWODWJBtl6Q',\n",
       "  'rating': 4,\n",
       "  'text': \"We were pretty hungry and hubby hadn't liked any of my other suggestions. So I found this place and we gave it a shot. For atmosphere, it was exactly what...\",\n",
       "  'time_created': '2019-08-16 08:26:52',\n",
       "  'url': 'https://www.yelp.com/biz/blue-haven-new-york?adjust_creative=VtPRsqqMAjvCbjZ2iKDzZw&hrid=9V_9DbseuChgWODWJBtl6Q&utm_campaign=yelp_api_v3&utm_medium=api_v3_business_reviews&utm_source=VtPRsqqMAjvCbjZ2iKDzZw',\n",
       "  'user': {'id': 'zQTEbn5nWGPypxOf2uRPmg',\n",
       "   'image_url': 'https://s3-media3.fl.yelpcdn.com/photo/I3wyb-L2B-M-tsA_QEBpOg/o.jpg',\n",
       "   'name': 'Katie H.',\n",
       "   'profile_url': 'https://www.yelp.com/user_details?userid=zQTEbn5nWGPypxOf2uRPmg'}},\n",
       " {'id': 'KTLcMC_T5iinGOftgmLfMw',\n",
       "  'rating': 3,\n",
       "  'text': \"Not exclusively a sports bar, but I would say it's pretty sports bar adjacent. Surprisingly good selection of beers, and lots of screens all around. Good...\",\n",
       "  'time_created': '2019-10-02 07:08:11',\n",
       "  'url': 'https://www.yelp.com/biz/blue-haven-new-york?adjust_creative=VtPRsqqMAjvCbjZ2iKDzZw&hrid=KTLcMC_T5iinGOftgmLfMw&utm_campaign=yelp_api_v3&utm_medium=api_v3_business_reviews&utm_source=VtPRsqqMAjvCbjZ2iKDzZw',\n",
       "  'user': {'id': 'xJpvRrk04rb4rgWtMXaPUQ',\n",
       "   'image_url': 'https://s3-media4.fl.yelpcdn.com/photo/meKWMPu_Nz-3OLJ5_KNeXw/o.jpg',\n",
       "   'name': 'Kenny C.',\n",
       "   'profile_url': 'https://www.yelp.com/user_details?userid=xJpvRrk04rb4rgWtMXaPUQ'}},\n",
       " {'id': 'ky4YfX6-nWWIaxNxipCDTg',\n",
       "  'rating': 4,\n",
       "  'text': \"This is a solid neighborhood bar with much better than average bar food. I have been to Blue Haven a few times for beers only. On the beer front it's really...\",\n",
       "  'time_created': '2019-08-31 08:10:06',\n",
       "  'url': 'https://www.yelp.com/biz/blue-haven-new-york?adjust_creative=VtPRsqqMAjvCbjZ2iKDzZw&hrid=ky4YfX6-nWWIaxNxipCDTg&utm_campaign=yelp_api_v3&utm_medium=api_v3_business_reviews&utm_source=VtPRsqqMAjvCbjZ2iKDzZw',\n",
       "  'user': {'id': 'Fxx2MIWXkxy-XCW34LfL6Q',\n",
       "   'image_url': 'https://s3-media3.fl.yelpcdn.com/photo/PVwTK4gHbyk4-7qgVmpp8w/o.jpg',\n",
       "   'name': 'Joey C.',\n",
       "   'profile_url': 'https://www.yelp.com/user_details?userid=Fxx2MIWXkxy-XCW34LfL6Q'}}]"
      ]
     },
     "execution_count": 133,
     "metadata": {},
     "output_type": "execute_result"
    }
   ],
   "source": [
    "data['reviews']"
   ]
  },
  {
   "cell_type": "code",
   "execution_count": 124,
   "metadata": {},
   "outputs": [],
   "source": [
    "data = json.loads(req.content)\n",
    "rev ={'id': data['reviews'][0]['id'],\n",
    "    'text': data['reviews'][0]['text']}"
   ]
  },
  {
   "cell_type": "code",
   "execution_count": 136,
   "metadata": {},
   "outputs": [],
   "source": [
    "def get_review_dict(ids):\n",
    "    reviews = []  \n",
    "    for rest in ids:\n",
    "        data = get_reviews(api_key=api_key, header=header, item=rest)\n",
    "        for item in data['reviews']:\n",
    "            rev = {'id' : item['id'],\n",
    "                   'text': item['text'],\n",
    "                    'restaurant_id': rest}\n",
    "            reviews.append(rev)\n",
    "    return reviews\n",
    "\n",
    "    "
   ]
  },
  {
   "cell_type": "code",
   "execution_count": 138,
   "metadata": {},
   "outputs": [],
   "source": [
    "reviews_sql = get_review_dict(ids)"
   ]
  },
  {
   "cell_type": "code",
   "execution_count": 154,
   "metadata": {},
   "outputs": [
    {
     "data": {
      "text/plain": [
       "\"We were pretty hungry and hubby hadn't liked any of my other suggestions. So I found this place and we gave it a shot. For atmosphere, it was exactly what...\""
      ]
     },
     "execution_count": 154,
     "metadata": {},
     "output_type": "execute_result"
    }
   ],
   "source": [
    "reviews_sql[0]['text']"
   ]
  },
  {
   "cell_type": "code",
   "execution_count": null,
   "metadata": {},
   "outputs": [],
   "source": [
    "# write a function that takes a business id \n",
    "# and makes a call to the API for reivews\n",
    "# then parse out the relevant information\n"
   ]
  },
  {
   "cell_type": "code",
   "execution_count": 155,
   "metadata": {},
   "outputs": [],
   "source": [
    "# write a function to insert the parsed data into the reviews table\n",
    "def insert_review(my_dict):\n",
    "    stmt = \"\"\"INSERT INTO reviews\n",
    "    (id, text, restaurant_id)\n",
    "    VALUES (%(id)s,%(text)s,%(restaurant_id)s)\"\"\"\n",
    "    cursor.execute(stmt, my_dict)\n"
   ]
  },
  {
   "cell_type": "code",
   "execution_count": 164,
   "metadata": {},
   "outputs": [],
   "source": [
    "for review in reviews_sql[1:]:\n",
    "    insert_review(review)\n",
    "    cnx.commit()"
   ]
  },
  {
   "cell_type": "code",
   "execution_count": 161,
   "metadata": {},
   "outputs": [],
   "source": []
  },
  {
   "cell_type": "markdown",
   "metadata": {},
   "source": [
    "## Part 4: Write SQL queries that will answer the questions posed. "
   ]
  },
  {
   "cell_type": "markdown",
   "metadata": {},
   "source": [
    "###  Pagination\n",
    "\n",
    "Returning to the Yelp API, the [documentation](https://www.yelp.com/developers/documentation/v3/business_search) also provides us details regarding the API limits. These often include details about the number of requests a user is allowed to make within a specified time limit and the maximum number of results to be returned. In this case, we are told that any request has a maximum of 50 results per request and defaults to 20. Furthermore, any search will be limited to a total of 1000 results. To retrieve all 1000 of these results, we would have to page through the results piece by piece, retriving 50 at a time. Processes such as these are often refered to as pagination.\n",
    "\n",
    "Now that you have an initial response, you can examine the contents of the json container. For example, you might start with ```response.json().keys()```. Here, you'll see a key for `'total'`, which tells you the full number of matching results given your query parameters. Write a loop (or ideally a function) which then makes successive API calls using the offset parameter to retrieve all of the results (or 5000 for a particularly large result set) for the original query. As you do this, be mindful of how you store the data. \n",
    "\n",
    "**Note: be mindful of the API rate limits. You can only make 5000 requests per day, and APIs can make requests too fast. Start prototyping small before running a loop that could be faulty. You can also use time.sleep(n) to add delays. For more details see https://www.yelp.com/developers/documentation/v3/rate_limiting.**"
   ]
  },
  {
   "cell_type": "markdown",
   "metadata": {},
   "source": [
    "***Below is sample code that you can use to help you deal with the pagination parameter.***"
   ]
  },
  {
   "cell_type": "code",
   "execution_count": null,
   "metadata": {},
   "outputs": [],
   "source": [
    "##### EXAMPLE CODE GIVEN BY INSTRUCTOR Your code here; use a function or loop to retrieve all the results from your original request\n",
    "import time\n",
    "\n",
    "def yelp_call(url_params, api_key):\n",
    "    url = 'https://api.yelp.com/v3/businesses/search'\n",
    "    headers = {'Authorization': 'Bearer {}'.format(api_key)}\n",
    "    response = requests.get(url, headers=headers, params=url_params)\n",
    "    \n",
    "    data = response.json()['businesses']\n",
    "    return data\n",
    "\n",
    "def all_results(url_params, api_key):\n",
    "    num = response.json()['total']\n",
    "    print('{} total matches found.'.format(num))\n",
    "    cur = 0\n",
    "    results = []\n",
    "    while cur < num and cur < 1000:\n",
    "        url_params['offset'] = cur\n",
    "        results.append(yelp_call(url_params, api_key))\n",
    "        time.sleep(1) #Wait a second\n",
    "        results += 50\n",
    "    return df\n",
    "\n",
    "term = 'pizza'\n",
    "location = 'Astoria NY'\n",
    "url_params = {  'term': term.replace(' ', '+'),\n",
    "                'location': location.replace(' ', '+'),\n",
    "                'limit' : 50\n",
    "             }\n",
    "df = all_results(url_params, api_key)\n",
    "print(len(df))\n",
    "df.head()"
   ]
  },
  {
   "cell_type": "markdown",
   "metadata": {},
   "source": [
    "### Sample SQL Query \n",
    "\n",
    "Below is a SQL query to create a table.  Additionally here is a link to create a table with a foreign key.\n",
    "\n",
    "http://www.mysqltutorial.org/mysql-foreign-key/\n",
    "\n",
    "```CREATE TABLE IF NOT EXISTS tasks (\n",
    "    task_id INT AUTO_INCREMENT,\n",
    "    title VARCHAR(255) NOT NULL,\n",
    "    start_date DATE,\n",
    "    due_date DATE,\n",
    "    status TINYINT NOT NULL,\n",
    "    priority TINYINT NOT NULL,\n",
    "    description TEXT,\n",
    "    PRIMARY KEY (task_id)\n",
    ")  ENGINE=INNODB;```"
   ]
  },
  {
   "cell_type": "code",
   "execution_count": 165,
   "metadata": {},
   "outputs": [
    {
     "name": "stdout",
     "output_type": "stream",
     "text": [
      "(\"Katz's Delicatessen\", 11795)\n",
      "('Ippudo NY', 9866)\n",
      "(\"Lombardi's Pizza\", 5988)\n",
      "(\"Joe's Shanghai\", 5970)\n",
      "('Peter Luger', 5570)\n"
     ]
    }
   ],
   "source": [
    "### 5 MOST REVIEWED BUSINESSES\n",
    "stmt =\"\"\"SELECT name, review_count FROM businesses ORDER BY review_count DESC LIMIT 5\"\"\"\n",
    "cursor.execute(stmt)\n",
    "for thing in cursor:\n",
    "    print (thing)"
   ]
  },
  {
   "cell_type": "code",
   "execution_count": 170,
   "metadata": {},
   "outputs": [
    {
     "name": "stdout",
     "output_type": "stream",
     "text": [
      "(15,)\n"
     ]
    }
   ],
   "source": [
    "### NUMBER OF HIGHEST RATED BUSINESSES\n",
    "stmt = \"\"\"SELECT COUNT(NAME) FROM businesses WHERE rating = (SELECT MAX(rating) FROM businesses)\"\"\"\n",
    "cursor.execute(stmt)\n",
    "for thing in cursor:\n",
    "    print (thing)"
   ]
  },
  {
   "cell_type": "code",
   "execution_count": 178,
   "metadata": {},
   "outputs": [
    {
     "name": "stdout",
     "output_type": "stream",
     "text": [
      "(Decimal('0.1620'),)\n"
     ]
    }
   ],
   "source": [
    "### PERCENT OF BUSINESSES RATING 4.5 OR HIGHER\n",
    "stmt = \"\"\"SELECT tot1/tot2\n",
    "FROM\n",
    "(SELECT COUNT(*) as tot1 FROM businesses WHERE rating >= 4.5) as table1, \n",
    "(SELECT COUNT(*) as tot2 FROM businesses) as table2\"\"\"\n",
    "cursor.execute(stmt)\n",
    "for thing in cursor:\n",
    "    print (thing)"
   ]
  },
  {
   "cell_type": "code",
   "execution_count": 179,
   "metadata": {},
   "outputs": [
    {
     "name": "stdout",
     "output_type": "stream",
     "text": [
      "(Decimal('0.0560'),)\n"
     ]
    }
   ],
   "source": [
    "### PERCENT OF BUSINESSES RATED LOWER THAN 3\n",
    "stmt = \"\"\"SELECT tot1/tot2\n",
    "FROM\n",
    "(SELECT COUNT(*) as tot1 FROM businesses WHERE rating < 3) as table1, \n",
    "(SELECT COUNT(*) as tot2 FROM businesses) as table2\"\"\"\n",
    "cursor.execute(stmt)\n",
    "for thing in cursor:\n",
    "    print (thing)"
   ]
  },
  {
   "cell_type": "code",
   "execution_count": 182,
   "metadata": {},
   "outputs": [
    {
     "name": "stdout",
     "output_type": "stream",
     "text": [
      "('$$', 3.8079096045197742)\n",
      "('$$$', 3.8863636363636362)\n",
      "('0', 3.840909090909091)\n",
      "('$$$$', 4.166666666666667)\n",
      "('$', 3.583629893238434)\n"
     ]
    }
   ],
   "source": [
    "### AVG RATING BY PRICE LEVEL\n",
    "stmt = \"\"\"SELECT price, AVG(rating) FROM businesses GROUP BY price\"\"\"\n",
    "cursor.execute(stmt)\n",
    "for thing in cursor:\n",
    "    print (thing)"
   ]
  },
  {
   "cell_type": "code",
   "execution_count": 185,
   "metadata": {},
   "outputs": [
    {
     "name": "stdout",
     "output_type": "stream",
     "text": [
      "('Beware - once you have the 50/50 corned beef/pastrami rueben, you will live a life of dissappointing ruebens elsewhere. I hit this 130 yr old legend every...', 11795)\n",
      "(\"Long lines beware and very noisy inside. Once you make it in take your ticket and don't lose it. Then you stand in another line behind a cutter. Some are...\", 11795)\n",
      "(\"Delicious everything!\\n\\nReminds me of a little Deli on Geary Street in San Francisco called Shenson's Deli.\", 11795)\n"
     ]
    }
   ],
   "source": [
    "### RETURN THE TEXT OF ALL OF THE REVIEWS FROM THE MOST REVIEWED RESTAURANT\n",
    "stmt = \"\"\"SELECT text, review_count\n",
    "FROM (SELECT text, businesses.review_count FROM reviews JOIN businesses on reviews.restaurant_id = businesses.id) a\n",
    "ORDER BY review_count DESC LIMIT 3\"\"\"\n",
    "cursor.execute(stmt)\n",
    "for thing in cursor:\n",
    "    print (thing)"
   ]
  },
  {
   "cell_type": "code",
   "execution_count": null,
   "metadata": {},
   "outputs": [],
   "source": []
  }
 ],
 "metadata": {
  "kernelspec": {
   "display_name": "Python 3",
   "language": "python",
   "name": "python3"
  },
  "language_info": {
   "codemirror_mode": {
    "name": "ipython",
    "version": 3
   },
   "file_extension": ".py",
   "mimetype": "text/x-python",
   "name": "python",
   "nbconvert_exporter": "python",
   "pygments_lexer": "ipython3",
   "version": "3.6.4"
  },
  "toc": {
   "base_numbering": 1,
   "nav_menu": {},
   "number_sections": false,
   "sideBar": true,
   "skip_h1_title": false,
   "title_cell": "Table of Contents",
   "title_sidebar": "Contents",
   "toc_cell": false,
   "toc_position": {},
   "toc_section_display": true,
   "toc_window_display": false
  }
 },
 "nbformat": 4,
 "nbformat_minor": 2
}
